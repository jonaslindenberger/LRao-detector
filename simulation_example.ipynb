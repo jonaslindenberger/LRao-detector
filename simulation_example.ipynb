{
 "cells": [
  {
   "cell_type": "markdown",
   "id": "c1e81935",
   "metadata": {},
   "source": [
    "# CNN+LRao detector: Student-t (including Cauchy) noise simulation"
   ]
  },
  {
   "cell_type": "code",
   "execution_count": null,
   "id": "d11c9339",
   "metadata": {},
   "outputs": [],
   "source": [
    "import numpy as np\n",
    "import torch\n",
    "import matplotlib.pyplot as plt\n",
    "import scipy as sp\n",
    "import magnetic_signal_detection_functions as f\n",
    "# %matplotlib widget\n",
    "device = \"cuda\" if torch.cuda.is_available() else \"cpu\""
   ]
  },
  {
   "cell_type": "markdown",
   "id": "ebf05b73",
   "metadata": {},
   "source": [
    "### Generate random AR filter"
   ]
  },
  {
   "cell_type": "code",
   "execution_count": null,
   "id": "7a505fb4",
   "metadata": {},
   "outputs": [],
   "source": [
    "sys_len = 3\n",
    "\n",
    "# to ensure randomly generated filter is stable\n",
    "def reflection_to_ar(reflection_coeffs):\n",
    "    order = len(reflection_coeffs)\n",
    "    ar_coeffs = np.zeros(order + 1, dtype=np.float64)\n",
    "    ar_coeffs[0] = 1.0\n",
    "    for i in range(1, order + 1):\n",
    "        k = reflection_coeffs[i-1]\n",
    "        prev_a = ar_coeffs[:i].copy()\n",
    "        if i > 1:\n",
    "            ar_coeffs[1:i] = prev_a[1:] - k * prev_a[1:][::-1]\n",
    "        ar_coeffs[i] = -k\n",
    "    return ar_coeffs\n",
    "a_coeffs = reflection_to_ar(np.random.rand(sys_len)-0.5)\n",
    "b_coeffs = np.array([1])\n",
    "\n",
    "# construct filter matrix for calcuation of FIM\n",
    "def arma_filter_matrix(a_coeffs, b_coeffs, N):\n",
    "    A = np.eye(N)\n",
    "    for i in range(1, N):\n",
    "        for k in range(1, len(a_coeffs)+1):\n",
    "            if i-k >= 0:\n",
    "                A[i, i-k] = a_coeffs[k-1]\n",
    "    u,s,v = np.linalg.svd(A)\n",
    "    s_inv = np.zeros(s.shape)\n",
    "    cutoff = 1e-3\n",
    "    s_inv[s>cutoff] = 1/s[s>cutoff]\n",
    "    A_inv = v.T@np.diag(s_inv)@u.T\n",
    "    Q = sp.linalg.toeplitz(np.concatenate([b_coeffs,np.zeros(N-len(b_coeffs))]),np.concatenate([b_coeffs[:1],np.zeros(N-1)]))\n",
    "    u,s,v = np.linalg.svd(Q)\n",
    "    s_inv = np.zeros(s.shape)\n",
    "    cutoff = 1e-3\n",
    "    s_inv[s>cutoff] = 1/s[s>cutoff]\n",
    "    Q_inv = v.T@np.diag(s_inv)@u.T\n",
    "    return A_inv@Q, Q_inv@A, A"
   ]
  },
  {
   "cell_type": "markdown",
   "id": "ca27de54",
   "metadata": {},
   "source": [
    "### Hyperparameters: CNN, noise, and FI"
   ]
  },
  {
   "cell_type": "code",
   "execution_count": null,
   "id": "1beb3d08",
   "metadata": {},
   "outputs": [],
   "source": [
    "config = {\n",
    "    \"optim\": \"AdamW\", # pytorch optimier for CNN weights\n",
    "    \"lr\": 3e-4, # learning rate for optimizer\n",
    "    \"weight_decay\": 1e-5, # L2 weight decay factor\n",
    "    \"dim_inp_train\": 128, # dimension of CNN input data: training\n",
    "    \"dim_inp_val\": 256, # dimension of CNN input data: validation\n",
    "    \"psd_method_params\": {\"name\":\"periodogram\"}, # method of PSD estimation\n",
    "    \"max_iterations\": 1000, # max training iterations (batches)\n",
    "    \"da\": 3e-2, # step size Jacobian of mean\n",
    "    \"filt_size\":3, # size of CNN filters\n",
    "    \"n_hidden_channels\": 20, # number of CNN hidden channels\n",
    "    \"n_conv_layers\": 3, # number of CNN layers (including first and last)\n",
    "    \"batch_size\": 2**8, # batchsize for training\n",
    "    \"filt_coeffs\": [a_coeffs,b_coeffs], # filter coefficients of linear filter acting upon noise\n",
    "    \"iter_batch\": 1, # iterations of batches to accumulate gradient accross multiple batches\n",
    "    \"puffer_sides\": 10 # puffer on sides of input layer for calculation of gradient to eliminate edge effects\n",
    "}\n",
    "_, A, _ = arma_filter_matrix(a_coeffs[1:],b_coeffs,config[\"dim_inp_val\"]) # linear filter matrix for calculation of FIM\n",
    "K = 4 # number of harmonics\n",
    "psi0 = 0.1 # normalized fundamental frequency\n",
    "H = f.H_multi_harmonic(K,psi0,config[\"dim_inp_train\"]).to(device) # observation matrix train\n",
    "H_test = f.H_multi_harmonic(K,psi0,config[\"dim_inp_val\"]).to(device) # observation matrix test\n",
    "nu = 2 # degrees of freedom for Student-t distribution (for nu=1 we get Cauchy distribution)\n",
    "noise_gen = f.StudentT_noise_generator(nu,config[\"filt_coeffs\"]) # noise generator\n",
    "noise_test = noise_gen.gen_noise_sequences(config[\"dim_inp_val\"],config[\"batch_size\"]) # test noise for scale estimation\n",
    "p_data = (1.483*np.median(np.abs(np.array(noise_test))))**2 # robust scale estimate of scale\n",
    "n_SNR = 50 # number of considered SNR levels\n",
    "snr = torch.logspace(-5,-1,n_SNR) # SNR levels\n",
    "amplitudes = torch.sqrt(2*p_data*snr/K) # select amplitudes levels according to SNR levels\n",
    "F = 1/2*(A.T)@A if nu==1 else (nu+1)/(nu+3)*(A.T)@A # ground truth FIM for objective comparison\n",
    "Ftheta = (H_test.to(torch.float64).cpu().T)@F@H_test.to(torch.float64).cpu() # FIM w.r.t. theta"
   ]
  },
  {
   "cell_type": "markdown",
   "id": "a9a8dcbd",
   "metadata": {},
   "source": [
    "### Check FI and noise characteristics"
   ]
  },
  {
   "cell_type": "code",
   "execution_count": null,
   "id": "d50cac7c",
   "metadata": {},
   "outputs": [],
   "source": [
    "print(\"(normalized) tract of FI:\",np.mean(np.diag(Ftheta)))\n",
    "print(np.diag(Ftheta))\n",
    "plt.figure()\n",
    "plt.semilogy(np.mean(np.abs(np.fft.fft(noise_test,axis=1,norm=\"ortho\"))**2,axis=0))\n",
    "plt.title(\"noise PSD\")\n",
    "plt.figure(figsize=(4,3))\n",
    "plt.plot(noise_test[1:2].T,linewidth=0.8)\n",
    "plt.title(\"noise realization\")\n",
    "plt.yscale('symlog', linthresh=1)\n",
    "plt.xlabel(\"sample index\")\n",
    "plt.ylabel(\"noise value\")"
   ]
  },
  {
   "cell_type": "markdown",
   "id": "18dc527d",
   "metadata": {},
   "source": [
    "### Train model"
   ]
  },
  {
   "cell_type": "code",
   "execution_count": null,
   "id": "1b9dfecf",
   "metadata": {},
   "outputs": [],
   "source": [
    "model = f.Trafo(config)\n",
    "model = model.to(device)\n",
    "lfi, model = f.train_data_sim(model,H,H_test,config,noise_gen)"
   ]
  },
  {
   "cell_type": "code",
   "execution_count": null,
   "id": "78ce9256",
   "metadata": {},
   "outputs": [],
   "source": [
    "plt.figure()\n",
    "plt.plot(np.arange(0,len(lfi)*10,10),[torch.mean(lfi[i]) for i in range(len(lfi))]/np.mean(np.diag(Ftheta)),alpha=0.9)\n",
    "plt.plot([0,len(lfi)*10-1],[1,1],\"r--\")\n",
    "plt.xlabel(\"iterations\")\n",
    "plt.ylabel(r\"tr$(\\hat{\\mathbf{J}_{\\boldsymbol{\\Psi}}})$/tr$(\\mathbf{F})$\")"
   ]
  },
  {
   "cell_type": "markdown",
   "id": "517fd81b",
   "metadata": {},
   "source": [
    "### Test model"
   ]
  },
  {
   "cell_type": "code",
   "execution_count": null,
   "id": "8953f265",
   "metadata": {},
   "outputs": [],
   "source": [
    "N = 512 # sequence length test data\n",
    "batch_size_test = 2**10 #2**15\n",
    "nu_ = nu # degrees of freedom (student t) for test distribution\n",
    "noise_gen_ = noise_gen if nu_==nu else f.StudentT_noise_generator(nu_,config[\"filt_coeffs\"])\n",
    "H_test = f.H_multi_harmonic(K,psi0,N).to(device)\n",
    "_, A, _ = arma_filter_matrix(a_coeffs[1:],b_coeffs,N)\n",
    "F = (nu_+1)/(nu_+3)*(A.T)@A if nu_>1 else 1/2*(A.T)@A\n",
    "Ftheta = (H_test.to(torch.float64).cpu().T)@F@H_test.to(torch.float64).cpu()\n",
    "lambda_nc_theory = []\n",
    "for i in range(len(amplitudes)):\n",
    "    pfa = np.linspace(0,1,1000)\n",
    "    thresholds = sp.stats.chi2.isf(pfa,df=2*K)\n",
    "    phases = 2*torch.pi*np.random.rand(H.shape[1]//2,1)\n",
    "    theta = np.zeros((H_test.shape[1],1))\n",
    "    theta[:len(theta)//2] = amplitudes[i]*np.cos(phases)\n",
    "    theta[len(theta)//2:] = -amplitudes[i]*np.sin(phases)\n",
    "    lambda_nc_theory.append((theta.T@Ftheta.numpy()@theta).squeeze())"
   ]
  },
  {
   "cell_type": "code",
   "execution_count": null,
   "id": "e01b03d7",
   "metadata": {},
   "outputs": [],
   "source": [
    "from tqdm.auto import tqdm\n",
    "iter_test = 1 # iterations of batches\n",
    "def test_model(model,H_test,amplitudes):\n",
    "    data_stats = noise_gen.gen_noise_sequences(N,batch_size_test)\n",
    "    data_stats = data_stats.to(device)\n",
    "    model.eval()\n",
    "    model.set_statistics_dft(data_stats.detach(),H_test)\n",
    "    t0 = []\n",
    "    t1 = []\n",
    "    lambda_nc = torch.zeros(len(amplitudes),iter_test,dtype=torch.float32)\n",
    "    for j in range(iter_test):\n",
    "        data_test = noise_gen_.gen_noise_sequences(N,batch_size_test)\n",
    "        data_test = data_test.to(device)\n",
    "        t0.append(model.detect(data_test).cpu().squeeze())\n",
    "        t1_ = [None]*len(amplitudes)\n",
    "        for i in tqdm(range(len(amplitudes))):\n",
    "            phases = 2*torch.pi*torch.rand((H.shape[1]//2,1),dtype=torch.float32,device=H.device)\n",
    "            theta = torch.zeros((H_test.shape[1],1),device=H_test.device)\n",
    "            theta[:len(theta)//2] = amplitudes[i]*torch.cos(phases)\n",
    "            theta[len(theta)//2:] = -amplitudes[i]*torch.sin(phases)\n",
    "            t1_[i] = model.calc_test_statistics(data_test.detach(),H_test,theta,H0=False).cpu().squeeze()\n",
    "            if j==0:\n",
    "                lambda_nc[i,j] = (theta.T@model.j0@theta).cpu().squeeze()\n",
    "        t1.append(torch.stack(t1_,dim=0))\n",
    "    return torch.concat(t0),torch.concat(t1,dim=1),torch.mean(lambda_nc,dim=1)\n",
    "t0, t1, lambda_nc = test_model(model,H_test,amplitudes)\n"
   ]
  },
  {
   "cell_type": "markdown",
   "id": "c544c18e",
   "metadata": {},
   "source": [
    "### Plot distributions"
   ]
  },
  {
   "cell_type": "code",
   "execution_count": null,
   "id": "2ba76306",
   "metadata": {},
   "outputs": [],
   "source": [
    "idx = 39 # SNR index\n",
    "binwidth = 1.2 # histogram bin width\n",
    "df = 2*K # degrees of freedom of asymptotic Chi-squared test statistic distribution\n",
    "plt.figure()\n",
    "plt.hist(t0,density=True,alpha=0.5,color=\"blue\",bins=np.arange(0,50+binwidth,binwidth),label=r\"$\\mathcal{H}_0$ sim.\")\n",
    "plt.plot(np.linspace(0,40,100),sp.stats.chi2.pdf(np.linspace(0,40,100),df),color=\"k\")\n",
    "plt.hist(t1[idx],density=True,alpha=0.5,color=\"orange\",bins=np.arange(0,50+binwidth,binwidth),label=r\"$\\mathcal{H}_1$ sim.\")\n",
    "plt.plot(np.linspace(0,50,200),sp.stats.ncx2.pdf(np.linspace(0,50,200),df,lambda_nc_theory[idx]),\"r--\",label=r\"$\\mathcal{H}_1$ optimal\")\n",
    "plt.plot(np.linspace(0,50,200),sp.stats.ncx2.pdf(np.linspace(0,50,200),df,lambda_nc[idx]),\"k\",label=r\"$\\mathcal{H}_0$, $\\mathcal{H}_1$ theory\")\n",
    "plt.legend()\n",
    "plt.ylabel(\"probability density\")\n",
    "plt.xlabel(\"value of test statistic\")"
   ]
  },
  {
   "cell_type": "markdown",
   "id": "f615e251",
   "metadata": {},
   "source": [
    "### Plots ROCs"
   ]
  },
  {
   "cell_type": "code",
   "execution_count": null,
   "id": "3330f165",
   "metadata": {},
   "outputs": [],
   "source": [
    "plt.figure()\n",
    "pos = [\n",
    "    [0.7,0.2],\n",
    "    [0.7,0.3],\n",
    "    [0.7,0.4],\n",
    "    [0.7,0.5],\n",
    "    [0.7,0.6]\n",
    "]\n",
    "pfa = np.linspace(0,1,1000)\n",
    "thresholds = sp.stats.chi2.isf(pfa,df=2*K)\n",
    "for i,idx in enumerate([34,37,39,41,44]):#[35,39,41,43,45]#[19,23,25,27,30]#[30,33,35,38,41]\n",
    "    pd = sp.stats.ncx2.sf(thresholds,df=2*K,nc=lambda_nc_theory[idx])\n",
    "    tpr,fpr = f.calc_roc_statistics(t0,t1[idx])\n",
    "    plt.plot(pfa,pd,\"r\")\n",
    "    plt.plot(fpr,tpr,\"b--\")\n",
    "    plt.text(*pos[i],f\"SNR={10*np.log10(snr[idx]):.2f}\")\n",
    "plt.xlabel(r\"$P_{FA}$\")\n",
    "plt.ylabel(r\"$P_{D}$\")\n",
    "plt.legend([\"Optimum\",\"CNN+LRao\"])\n",
    "plt.title(f\"N={N}\")"
   ]
  },
  {
   "cell_type": "code",
   "execution_count": null,
   "id": "aaed797f",
   "metadata": {},
   "outputs": [],
   "source": []
  }
 ],
 "metadata": {
  "kernelspec": {
   "display_name": "ai4steel",
   "language": "python",
   "name": "python3"
  },
  "language_info": {
   "codemirror_mode": {
    "name": "ipython",
    "version": 3
   },
   "file_extension": ".py",
   "mimetype": "text/x-python",
   "name": "python",
   "nbconvert_exporter": "python",
   "pygments_lexer": "ipython3",
   "version": "3.13.2"
  }
 },
 "nbformat": 4,
 "nbformat_minor": 5
}
