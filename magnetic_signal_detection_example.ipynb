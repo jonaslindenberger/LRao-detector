{
 "cells": [
  {
   "cell_type": "markdown",
   "id": "c695ff08",
   "metadata": {},
   "source": [
    "# CNN+LRao detector: Magnetic signal detection example"
   ]
  },
  {
   "cell_type": "code",
   "execution_count": null,
   "id": "9777e82d",
   "metadata": {},
   "outputs": [],
   "source": [
    "import torch\n",
    "import numpy as np\n",
    "import matplotlib.pyplot as plt\n",
    "import scipy as sp\n",
    "import magnetic_signal_detection_functions as f\n",
    "# %matplotlib widget\n",
    "device = \"cuda\" if torch.cuda.is_available() else \"cpu\""
   ]
  },
  {
   "cell_type": "markdown",
   "id": "061a57ca",
   "metadata": {},
   "source": [
    "### Load and normalize data"
   ]
  },
  {
   "cell_type": "code",
   "execution_count": null,
   "id": "98dbe0bb",
   "metadata": {},
   "outputs": [],
   "source": [
    "mat = sp.io.loadmat('FSSP3exer14_1.mat')\n",
    "data = mat[\"w\"].squeeze()\n",
    "sigma_mad = 1.483*np.median(np.abs(data-np.median(data)))\n",
    "data = (data-np.median(data))/sigma_mad\n",
    "plt.figure()\n",
    "plt.plot(data)"
   ]
  },
  {
   "cell_type": "markdown",
   "id": "a5becb70",
   "metadata": {},
   "source": [
    "### Hyperparameters"
   ]
  },
  {
   "cell_type": "code",
   "execution_count": null,
   "id": "31b146b0",
   "metadata": {},
   "outputs": [],
   "source": [
    "config = {\n",
    "    \"optim\": [\"AdamW\"],# optimizer pytorch for CNN weights,\"Adam\",\"SGD\",\"AdamW\"\n",
    "    \"lr\": [1e-4], # learning rate optimizer\n",
    "    \"weight_decay\": 1e-5, # L2 weight decay optimizer\n",
    "    \"dim_inp\": 128, # CNN input dimension (sequence length)\n",
    "    \"psd_method_params\": [{\"name\":\"periodogram\"}],# PSD estimation method, {\"name\":\"yule\",\"order\":5},{\"name\":\"yule\",\"order\":7},{\"name\":\"yule\",\"order\":10},{\"name\":\"periodogram\"}\n",
    "    \"max_iterations\": 500, # max number of iterations (batches and epochs, since batchsize = whole data set)\n",
    "    \"da\": 1e-2, # step size for computation of Jacobian of mean\n",
    "    \"filt_size\":[3], # CNN filter size\n",
    "    \"n_hidden_channels\": [20], # CNN number of hidden channels\n",
    "    \"n_conv_layers\": [3], # CNN number of layers (including input and output)\n",
    "    \"puffer_sides\": 10 # puffer on sides of input layer for calculation of gradient to eliminate edge effects\n",
    "}\n",
    "\n",
    "config_list = f.gen_list_models(config) # list of config dicts\n",
    "K = 4 # number of harmonics\n",
    "psi0 = 0.1 # normalized fundamental frequency\n",
    "H = f.H_multi_harmonic(K,psi0,config[\"dim_inp\"]).to(device) # observation matrix train\n",
    "n_SNR = 20 # number of considered SNR levels\n",
    "snr = torch.logspace(-3.5,-1.5,n_SNR) # SNR levels\n",
    "p_data = np.mean(data**2) # variance of data\n",
    "amplitudes = torch.sqrt(2*p_data*snr/K) # amplitudes according to SNR levels\n",
    "n_splits_o = 5 # outer cross validation splits, in paper:10\n",
    "n_repeats_o = 1 # outer cross validation repeats\n",
    "n_splits_i = 4 # inner cross validation splits in paper:9\n",
    "n_repeats_i = 1 # inner cross validation repeats\n",
    "n_repeats_phase_net = 10 # evaluation repeats for different phases, in paper:100\n",
    "data_torch = torch.tensor(data,device=device,dtype=torch.float32)\n",
    "data_torch_reshaped = f.reshape_data(data_torch,config[\"dim_inp\"])"
   ]
  },
  {
   "cell_type": "markdown",
   "id": "2d0b722b",
   "metadata": {},
   "source": [
    "### Train, validate, and test model"
   ]
  },
  {
   "cell_type": "code",
   "execution_count": null,
   "id": "e131cbeb",
   "metadata": {},
   "outputs": [],
   "source": [
    "t0, t1, lambda_nc, lfi, config_best = f.nested_cv(data_torch_reshaped,H,amplitudes,config_list,n_splits_o,n_repeats_o,n_splits_i,n_repeats_i,n_repeats_phase_net)"
   ]
  },
  {
   "cell_type": "code",
   "execution_count": null,
   "id": "7eb82965",
   "metadata": {},
   "outputs": [],
   "source": [
    "plt.figure() # LFI of training runs until early stopping\n",
    "for i in range(len(lfi)):\n",
    "    plt.plot(lfi[i],color=\"b\")\n",
    "plt.ylabel(\"neg cost, tr(LFI)\")\n",
    "plt.xlabel(\"epochs\")\n",
    "plt.title(\"LFI train until early stopping\")"
   ]
  },
  {
   "cell_type": "code",
   "execution_count": null,
   "id": "36fecb90",
   "metadata": {},
   "outputs": [],
   "source": [
    "plt.figure()\n",
    "binwidth = 2\n",
    "idx_ = 9\n",
    "plt.hist(t0.cpu(),density=True,alpha=0.5,color=\"blue\",bins=np.arange(0,70+binwidth,binwidth))\n",
    "plt.plot(np.linspace(0,40,100),sp.stats.chi2.pdf(np.linspace(0,40,100),8),color=\"k\")\n",
    "plt.hist(t1[idx_].cpu(),density=True,alpha=0.5,color=\"green\",bins=np.arange(0,70+binwidth,binwidth))\n",
    "plt.plot(np.linspace(0,80,200),sp.stats.ncx2.pdf(np.linspace(0,80,200),8,lambda_nc[idx_]),color=\"k\")\n",
    "plt.xlim(0,70)\n",
    "plt.xlabel(\"value of test statistic\")\n",
    "plt.ylabel(\"probability density\")"
   ]
  },
  {
   "cell_type": "markdown",
   "id": "603bf9ea",
   "metadata": {},
   "source": [
    "### Reference Models"
   ]
  },
  {
   "cell_type": "code",
   "execution_count": null,
   "id": "e98583a6",
   "metadata": {},
   "outputs": [],
   "source": [
    "t0_RaoCGN,t1_RaoCGN,t0_RaoCGN_clipped,t1_RaoCGN_clipped,t0_RaoWGN,t1_RaoWGN = f.reference_detection(data_torch_reshaped,H,amplitudes,n_splits_o,n_repeats_o,n_repeats_phase_net)"
   ]
  },
  {
   "cell_type": "markdown",
   "id": "c3537d6b",
   "metadata": {},
   "source": [
    "### ROCs: Average ROC and std dev of AUROC"
   ]
  },
  {
   "cell_type": "code",
   "execution_count": null,
   "id": "9d90e2ce",
   "metadata": {},
   "outputs": [],
   "source": [
    "n_independent_test_data = len(data)//config[\"dim_inp\"]\n",
    "mean_fpr = np.linspace(0, 1, 1000)\n",
    "n_indiv = 50 # has to be smaller than\n",
    "n_trials = 10 #in paper: 1000\n",
    "def tprs_aucs(t0,t1):\n",
    "    tprs = []\n",
    "    aucs = []\n",
    "    for i in range(n_trials):\n",
    "        tpr, fpr = f.calc_roc_statistics(torch.tensor(np.random.choice(t0, n_indiv, replace=False)),torch.tensor(np.random.choice(t1, n_indiv, replace=False)))\n",
    "        interp_tpr = np.interp(mean_fpr, torch.flip(fpr,dims=[0]), torch.flip(tpr,dims=[0]))\n",
    "        interp_tpr[0] = 0.0\n",
    "        tprs.append(interp_tpr)\n",
    "        aucs.append(f.auroc(fpr,tpr,fpr_max=1))\n",
    "    mean_tpr = np.mean(tprs, axis=0)\n",
    "    mean_tpr[-1] = 1.0\n",
    "    std_tpr = np.std(tprs, axis=0)*(np.sqrt(n_indiv/n_independent_test_data))\n",
    "    mean_auc = f.auroc(torch.tensor(mean_fpr), torch.tensor(mean_tpr))\n",
    "    std_auc = np.std(aucs)\n",
    "    return mean_tpr, std_tpr, mean_auc, std_auc\n",
    "\n",
    "# CNN+LRao\n",
    "idx = 9\n",
    "fig, ax = plt.subplots(figsize=(5,5))\n",
    "mean_tpr, std_tpr, mean_auc, std_auc = tprs_aucs(t0,t1[idx])\n",
    "ax.plot(\n",
    "    mean_fpr,\n",
    "    mean_tpr,\n",
    "    color=\"b\",\n",
    "    label=r\"CNN+LRao (%0.2f $\\pm$ %0.3f)\" % (mean_auc, 2*std_auc),\n",
    "    lw=2,\n",
    "    alpha=0.8,\n",
    ")\n",
    "tprs_upper = np.minimum(mean_tpr+2*std_tpr, 1)\n",
    "tprs_lower = np.maximum(mean_tpr-2*std_tpr, 0)\n",
    "\n",
    "mean_tpr, std_tpr, mean_auc, std_auc = tprs_aucs(t0_RaoCGN,t1_RaoCGN[idx])\n",
    "ax.plot(\n",
    "    mean_fpr,\n",
    "    mean_tpr,\n",
    "    color=\"g\",\n",
    "    label=r\"no non-linearity (%0.2f $\\pm$ %0.3f)\" % (mean_auc, 2*std_auc),\n",
    "    lw=2,\n",
    "    alpha=0.8,\n",
    ")\n",
    "tprs_upper = np.minimum(mean_tpr+2*std_tpr, 1)\n",
    "tprs_lower = np.maximum(mean_tpr-2*std_tpr, 0)\n",
    "\n",
    "mean_tpr, std_tpr, mean_auc, std_auc = tprs_aucs(t0_RaoCGN_clipped,t1_RaoCGN_clipped[idx])\n",
    "ax.plot(\n",
    "    mean_fpr,\n",
    "    mean_tpr,\n",
    "    color=\"r\",\n",
    "    label=r\"limiter function (%0.2f $\\pm$ %0.3f)\" % (mean_auc, 2*std_auc),\n",
    "    lw=2,\n",
    "    alpha=0.8,\n",
    ")\n",
    "tprs_upper = np.minimum(mean_tpr+2*std_tpr, 1)\n",
    "tprs_lower = np.maximum(mean_tpr-2*std_tpr, 0)\n",
    "\n",
    "mean_tpr, std_tpr, mean_auc, std_auc = tprs_aucs(t0_RaoWGN,t1_RaoWGN[idx])\n",
    "ax.plot(\n",
    "    mean_fpr,\n",
    "    mean_tpr,\n",
    "    color=\"y\",\n",
    "    label=r\"(from reference) sign function (%0.2f $\\pm$ %0.3f)\" % (mean_auc, 2*std_auc),\n",
    "    lw=2,\n",
    "    alpha=0.8,\n",
    ")\n",
    "tprs_upper = np.minimum(mean_tpr+2*std_tpr, 1)\n",
    "tprs_lower = np.maximum(mean_tpr-2*std_tpr, 0)\n",
    "\n",
    "ax.set(\n",
    "    xlabel=\"False Positive Rate\",\n",
    "    ylabel=\"True Positive Rate\",\n",
    ")\n",
    "ax.legend(loc=\"lower right\")\n",
    "ax.fill_between(\n",
    "    [0,1],\n",
    "    [0,0],\n",
    "    [0,1],\n",
    "    color=\"grey\",\n",
    "    alpha=0.2,\n",
    ")\n",
    "ax.plot([0,1],[0,1],\"k--\")\n",
    "thresholds = sp.stats.chi2.isf(mean_fpr,df=2*K)\n",
    "pd = sp.stats.ncx2.sf(thresholds,df=2*K,nc=lambda_nc[idx])\n",
    "ax.plot(mean_fpr,pd,\"b--\")"
   ]
  }
 ],
 "metadata": {
  "kernelspec": {
   "display_name": "ai4steel",
   "language": "python",
   "name": "python3"
  },
  "language_info": {
   "codemirror_mode": {
    "name": "ipython",
    "version": 3
   },
   "file_extension": ".py",
   "mimetype": "text/x-python",
   "name": "python",
   "nbconvert_exporter": "python",
   "pygments_lexer": "ipython3",
   "version": "3.13.2"
  }
 },
 "nbformat": 4,
 "nbformat_minor": 5
}
